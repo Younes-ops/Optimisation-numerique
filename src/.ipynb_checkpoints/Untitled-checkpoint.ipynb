{
 "cells": [
  {
   "cell_type": "code",
   "execution_count": 1,
   "metadata": {},
   "outputs": [
    {
     "name": "stdout",
     "output_type": "stream",
     "text": [
      "-------------------------------------------------------------------------\n",
      "\u001b[34m\u001b[1mPour g =[0, 0] et H = [7 0; 0 2] On a \u001b[22m\u001b[39m\n",
      "\u001b[34m\u001b[1m s : [NaN, NaN]\u001b[22m\u001b[39m\n",
      "-------------------------------------------------------------------------\n",
      "\u001b[34m\u001b[1mPour g =[6, 2] et H = [7 0; 0 2] On a \u001b[22m\u001b[39m\n",
      "\u001b[34m\u001b[1m s : [-0.857142857142857, -1.0]\u001b[22m\u001b[39m\n",
      "-------------------------------------------------------------------------\n",
      "\u001b[34m\u001b[1mPour g =[-2, 1] et H = [-2 0; 0 10] On a \u001b[22m\u001b[39m\n",
      "\u001b[34m\u001b[1m s : [1.7888543819998317, -0.8944271909999159]\u001b[22m\u001b[39m\n",
      "-------------------------------------------------------------------------\n",
      "\u001b[34m\u001b[1mPour g =[-2, 1] et H = [-2 0; 0 10] On a \u001b[22m\u001b[39m\n",
      "\u001b[34m\u001b[1m s : [1.7888543819998317, -0.8944271909999159]\u001b[22m\u001b[39m\n"
     ]
    },
    {
     "ename": "LoadError",
     "evalue": "UndefVarError: Pas_De_Cauchy not defined",
     "output_type": "error",
     "traceback": [
      "UndefVarError: Pas_De_Cauchy not defined",
      "",
      "Stacktrace:",
      " [1] top-level scope at In[1]:42",
      " [2] include_string(::Function, ::Module, ::String, ::String) at ./loading.jl:1091"
     ]
    }
   ],
   "source": [
    "using LinearAlgebra\n",
    "using Markdown   \n",
    "\n",
    "include(\"Gradient_Conjugue_Tronque+.jl\")\n",
    "\n",
    "\n",
    "function afficher_resultat_grad_conj(s, g, H)\n",
    "\tprintln(\"-------------------------------------------------------------------------\")\n",
    "\tprintstyled(\"Pour g =\", g, \" et H = \", H, \" On a \\n s : \",s ,\"\\n\",bold=true,color=:blue)\n",
    "end\n",
    "# Quadratique 1\n",
    "g1 = [0; 0]\n",
    "H1 = [7 0; 0 2]\n",
    "delta1 = []\n",
    "s1 = Gradient_Conjugue_Tronque(g1, H1, delta1)\n",
    "afficher_resultat_grad_conj(s1, g1, H1)\n",
    "\n",
    "# Quadratique 2\n",
    "g2 = [6; 2]\n",
    "H2 = [7 0; 0 2]\n",
    "delta2 = []\n",
    "s2 = Gradient_Conjugue_Tronque(g2, H2, delta2)\n",
    "afficher_resultat_grad_conj(s2, g2, H2)\n",
    "\n",
    "# Quadratique 3\n",
    "g3 = [-2; 1]\n",
    "H3 = [-2 0; 0 10]\n",
    "delta3 = []\n",
    "s3 = Gradient_Conjugue_Tronque(g3, H3, delta3)\n",
    "afficher_resultat_grad_conj(s3, g3, H3)\n",
    "# Quadratique 4\n",
    "g4 = [-2; 1]\n",
    "H4 = [-2 0; 0 10]\n",
    "delta4 = []\n",
    "s4 = Gradient_Conjugue_Tronque(g4, H4, delta4)\n",
    "afficher_resultat_grad_conj(s4, g4, H4)\n",
    "\n",
    "# Quadratique 5\n",
    "g5 = [0; 0]\n",
    "H5 = [-2 0; 0 10]\n",
    "delta5 = []\n",
    "s5 = Gradient_Conjugue_Tronque(g5, H5, delta5)\n",
    "afficher_resultat_grad_conj(s5,  g5, H5)"
   ]
  },
  {
   "cell_type": "code",
   "execution_count": null,
   "metadata": {},
   "outputs": [],
   "source": []
  }
 ],
 "metadata": {
  "kernelspec": {
   "display_name": "Julia 1.5.2",
   "language": "julia",
   "name": "julia-1.5"
  },
  "language_info": {
   "file_extension": ".jl",
   "mimetype": "application/julia",
   "name": "julia",
   "version": "1.5.2"
  }
 },
 "nbformat": 4,
 "nbformat_minor": 4
}
