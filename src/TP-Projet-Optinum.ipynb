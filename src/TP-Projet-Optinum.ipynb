{
 "cells": [
  {
   "cell_type": "markdown",
   "metadata": {},
   "source": [
    "<center>\n",
    "<h1> TP-Projet d'optimisation numérique </h1>\n",
    "<h1> Année 2020-2021 - 2e année département Sciences du Numérique </h1>\n",
    "<h1> Noms: MDAA, EL BOUZEKRAOUI </h1>\n",
    "<h1> Prénoms: Saad, Younes  </h1>    \n",
    "</center>"
   ]
  },
  {
   "cell_type": "markdown",
   "metadata": {},
   "source": [
    "# Algorithme de Newton\n",
    "## Implémentation \n",
    " \n",
    "1. Coder l’algorithme de Newton local tel que décrit dans la section *Algorithme de Newton* (fichier `Algorithme_De_Newton.jl`)\n",
    "\n",
    "2. Tester l’algorithme sur les fonctions $f_{1}$ , $f_{2}$ avec les points initiaux $x_{011}$ , $x_{012}$ (pour $f_{1}$ ) et $x_{021}$ , $x_{022}$ , $x_{023}$ (pour $f_{2}$ ) donnés en Annexe A."
   ]
  },
  {
   "cell_type": "code",
   "execution_count": 1,
   "metadata": {
    "scrolled": false
   },
   "outputs": [
    {
     "name": "stdout",
     "output_type": "stream",
     "text": [
      "-------------------------------------------------------------------------\n",
      "\u001b[34m\u001b[1mRésultats de : Newton appliqué à f0 au point initial -1.5707963267948966:\u001b[22m\u001b[39m\n",
      "  * xsol = -1.5707963267948966\n",
      "  * f(xsol) = -1.0\n",
      "  * nb_iters = 0\n",
      "  * flag = 0\n",
      "  * sol_exacte : -1.5707963267948966\n",
      "-------------------------------------------------------------------------\n",
      "\u001b[34m\u001b[1mRésultats de : Newton appliqué à f0 au point initial -1.0707963267948966:\u001b[22m\u001b[39m\n",
      "  * xsol = -1.5707963267949088\n",
      "  * f(xsol) = -1.0\n",
      "  * nb_iters = 3\n",
      "  * flag = 0\n",
      "  * sol_exacte : -1.5707963267948966\n",
      "-------------------------------------------------------------------------\n",
      "\u001b[34m\u001b[1mRésultats de : Newton appliqué à f0 au point initial 1.5707963267948966:\u001b[22m\u001b[39m\n",
      "  * xsol = 1.5707963267948966\n",
      "  * f(xsol) = 1.0\n",
      "  * nb_iters = 0\n",
      "  * flag = 0\n",
      "  * sol_exacte : -1.5707963267948966\n"
     ]
    }
   ],
   "source": [
    "#using Pkg; Pkg.add(\"LinearAlgebra\"); Pkg.add(\"Markdown\")\n",
    "# using Documenter\n",
    "using LinearAlgebra\n",
    "using Markdown                             # Pour que les docstrings en début des fonctions ne posent\n",
    "                                           # pas de soucis. Ces docstrings sont utiles pour générer \n",
    "                                           # la documentation sous GitHub\n",
    "include(\"Algorithme_De_Newton.jl\")\n",
    "\n",
    "# Affichage les sorties de l'algorithme des Régions de confiance\n",
    "function my_afficher_resultats(algo,nom_fct,point_init,xmin,fxmin,flag,sol_exacte,nbiters)\n",
    "\tprintln(\"-------------------------------------------------------------------------\")\n",
    "\tprintstyled(\"Résultats de : \",algo, \" appliqué à \",nom_fct, \" au point initial \", point_init, \":\\n\",bold=true,color=:blue)\n",
    "\tprintln(\"  * xsol = \",xmin)\n",
    "\tprintln(\"  * f(xsol) = \",fxmin)\n",
    "\tprintln(\"  * nb_iters = \",nbiters)\n",
    "\tprintln(\"  * flag = \",flag)\n",
    "\tprintln(\"  * sol_exacte : \", sol_exacte)\n",
    "end\n",
    "\n",
    "# Fonction f0\n",
    "# -----------\n",
    "f0(x) =  sin(x)\n",
    "# la gradient de la fonction f0\n",
    "grad_f0(x) = cos(x)\n",
    "# la hessienne de la fonction f0\n",
    "hess_f0(x) = -sin(x)\n",
    "sol_exacte = -pi/2\n",
    "options = []\n",
    "\n",
    "x0 = sol_exacte\n",
    "xmin,f_min,flag,nb_iters = Algorithme_De_Newton(f0,grad_f0,hess_f0,x0,options)\n",
    "my_afficher_resultats(\"Newton\",\"f0\",x0,xmin,f_min,flag,sol_exacte,nb_iters)\n",
    "x0 = -pi/2+0.5\n",
    "xmin,f_min,flag,nb_iters = Algorithme_De_Newton(f0,grad_f0,hess_f0,x0,options)\n",
    "my_afficher_resultats(\"Newton\",\"f0\",x0,xmin,f_min,flag,sol_exacte,nb_iters)\n",
    "x0 = pi/2\n",
    "xmin,f_min,flag,nb_iters = Algorithme_De_Newton(f0,grad_f0,hess_f0,x0,options)\n",
    "my_afficher_resultats(\"Newton\",\"f0\",x0,xmin,f_min,flag,sol_exacte,nb_iters)\n"
   ]
  },
  {
   "cell_type": "code",
   "execution_count": 2,
   "metadata": {},
   "outputs": [],
   "source": [
    "# Données \n",
    "\n",
    "# Fonction f1\n",
    "# -----------\n",
    "function f1(A) \n",
    "    x = A[1];\n",
    "    y = A[2];\n",
    "    z = A[3];\n",
    "    return 2 * (x + y + z - 3)^2 + (x - y)^2 + (y - z)^2;\n",
    "end\n",
    "# la gradient de la fonction f1\n",
    "function grad_f1(A)\n",
    "    x = A[1];\n",
    "    y = A[2];\n",
    "    z = A[3];   \n",
    "    return  [4 * (x + y + z - 3) + 2 * (x - y); 4 * (x + y + z - 3) + 2 * (y - z) - 2 * (x -y); 4 * (x + y + z - 3) - 2 * (y - z)]\n",
    "end\n",
    "# la hessienne de la fonction f1\n",
    "hess_f1(A) = [6 2 4; 2 8 2; 4 2 6]\n",
    "\n",
    "# solution exacte\n",
    "sol_exacte1 = [1; 1; 1]\n",
    "\n",
    "# points de depart\n",
    "x011= [1; 0; 0]\n",
    "x012= [10; 3; -2.2]\n",
    "xc11 = [0; 1; 1]\n",
    "xc12 = [0.5; 1.25; 1]\n",
    "\n",
    "# Fonction f2\n",
    "# -----------\n",
    "f2(x)=100*(x[2]-x[1]^2)^2+(1-x[1])^2\n",
    "# la gradient de la fonction f2\n",
    "grad_f2(x)=[-400*x[1]*(x[2]-x[1]^2)-2*(1-x[1]) ; 200*(x[2]-x[1]^2)]\n",
    "# la hessienne de la fonction f1\n",
    "hess_f2(x)=[-400*(x[2]-3*x[1]^2)+2  -400*x[1];-400*x[1]  200]\n",
    "\n",
    "# solution exacte\n",
    "sol_exacte2 = [1; 1]\n",
    "\n",
    "# points de depart\n",
    "x021 = [-1.2; 1]\n",
    "x022 = [10; 0]\n",
    "x023 = [0; ((1/200) + (1/(10^12)))]\n",
    "\n",
    "# Quadratique 1\n",
    "# -----------\n",
    "g1 = [0; 0]\n",
    "H1 = [7 0; 0 2]\n",
    "\n",
    "# Quadratique 2\n",
    "# -----------\n",
    "g2 = [6; 2]\n",
    "H2 = [7 0; 0 2]\n",
    "\n",
    "# Quadratique 3\n",
    "# -----------\n",
    "g3 = [-2; 1]\n",
    "H3 = [-2 0; 0 10]\n",
    "\n",
    "# Quadratique 4\n",
    "# -----------\n",
    "g4 = [0; 0]\n",
    "H4 = [-2 0; 0 10]\n",
    "\n",
    "# Quadratique 5\n",
    "# -----------\n",
    "g5 = [2; 3]\n",
    "H5 = [4 6; 6 5]\n",
    "\n",
    "# Quadratique 6\n",
    "# -----------\n",
    "g6 = [2; 0]\n",
    "H6 = [4 0; 0 -15]\n",
    "\n",
    "# fonction contrainte c1\n",
    "c1(x) = x[1] + x[3] -1\n",
    "grad_c1(x) = [1; 0; 1]\n",
    "hess_c1(x) = zeros(3,3)\n",
    "\n",
    "# fonction contrainte c1\n",
    "c2(x) = x[1]^2 + x[2]^2 -1.5\n",
    "grad_c2(x) = [2 * x[1]; 2 * x[2]]\n",
    "hess_c2(x) = [2 0; 0 2];"
   ]
  },
  {
   "cell_type": "code",
   "execution_count": 3,
   "metadata": {},
   "outputs": [
    {
     "name": "stdout",
     "output_type": "stream",
     "text": [
      "-------------------------------------------------------------------------\n",
      "\u001b[34m\u001b[1mRésultats de : Newton appliqué à f1 au point initial [1, 0, 0]:\u001b[22m\u001b[39m\n",
      "  * xsol = [1.0, 1.0, 0.9999999999999999]\n",
      "  * f(xsol) = 1.232595164407831e-32\n",
      "  * nb_iters = 1\n",
      "  * flag = 0\n",
      "  * sol_exacte : [1, 1, 1]\n",
      "-------------------------------------------------------------------------\n",
      "\u001b[34m\u001b[1mRésultats de : Newton appliqué à f1 au point initial [10.0, 3.0, -2.2]:\u001b[22m\u001b[39m\n",
      "  * xsol = [1.0, 0.9999999999999996, 0.9999999999999987]\n",
      "  * f(xsol) = 7.296963373294359e-30\n",
      "  * nb_iters = 1\n",
      "  * flag = 0\n",
      "  * sol_exacte : [1, 1, 1]\n"
     ]
    }
   ],
   "source": [
    "# Test de l'Algorithme_De_Newton sur f1\n",
    "xmin,f_min,flag,nb_iters = Algorithme_De_Newton(f1,grad_f1,hess_f1,x011,options)\n",
    "my_afficher_resultats(\"Newton\",\"f1\",x011,xmin,f_min,flag,sol_exacte1,nb_iters)\n",
    "xmin,f_min,flag,nb_iters = Algorithme_De_Newton(f1,grad_f1,hess_f1,x012,options)\n",
    "my_afficher_resultats(\"Newton\",\"f1\",x012,xmin,f_min,flag,sol_exacte1,nb_iters)"
   ]
  },
  {
   "cell_type": "code",
   "execution_count": 4,
   "metadata": {},
   "outputs": [
    {
     "name": "stdout",
     "output_type": "stream",
     "text": [
      "-------------------------------------------------------------------------\n",
      "\u001b[34m\u001b[1mRésultats de : Newton appliqué à f2 au point initial [-1.2, 1.0]:\u001b[22m\u001b[39m\n",
      "  * xsol = [0.9999999999999999, 0.9999999999814724]\n",
      "  * f(xsol) = 3.4326461875363225e-20\n",
      "  * nb_iters = 6\n",
      "  * flag = 0\n",
      "  * sol_exacte : [1, 1]\n",
      "-------------------------------------------------------------------------\n",
      "\u001b[34m\u001b[1mRésultats de : Newton appliqué à f2 au point initial [10, 0]:\u001b[22m\u001b[39m\n",
      "  * xsol = [1.0, 1.0]\n",
      "  * f(xsol) = 0.0\n",
      "  * nb_iters = 5\n",
      "  * flag = 0\n",
      "  * sol_exacte : [1, 1]\n"
     ]
    },
    {
     "ename": "LoadError",
     "evalue": "SingularException(2)",
     "output_type": "error",
     "traceback": [
      "SingularException(2)",
      "",
      "Stacktrace:",
      " [1] checknonsingular at D:\\buildbot\\worker\\package_win64\\build\\usr\\share\\julia\\stdlib\\v1.5\\LinearAlgebra\\src\\factorization.jl:19 [inlined]",
      " [2] checknonsingular at D:\\buildbot\\worker\\package_win64\\build\\usr\\share\\julia\\stdlib\\v1.5\\LinearAlgebra\\src\\factorization.jl:21 [inlined]",
      " [3] lu!(::Array{Float64,2}, ::Val{true}; check::Bool) at D:\\buildbot\\worker\\package_win64\\build\\usr\\share\\julia\\stdlib\\v1.5\\LinearAlgebra\\src\\lu.jl:85",
      " [4] #lu#136 at D:\\buildbot\\worker\\package_win64\\build\\usr\\share\\julia\\stdlib\\v1.5\\LinearAlgebra\\src\\lu.jl:273 [inlined]",
      " [5] lu at D:\\buildbot\\worker\\package_win64\\build\\usr\\share\\julia\\stdlib\\v1.5\\LinearAlgebra\\src\\lu.jl:272 [inlined] (repeats 2 times)",
      " [6] \\(::Array{Float64,2}, ::Array{Float64,1}) at D:\\buildbot\\worker\\package_win64\\build\\usr\\share\\julia\\stdlib\\v1.5\\LinearAlgebra\\src\\generic.jl:1116",
      " [7] Algorithme_De_Newton(::typeof(f2), ::typeof(grad_f2), ::typeof(hess_f2), ::Array{Float64,1}, ::Array{Any,1}) at C:\\Users\\MDAA\\Documents\\Optium-BE\\src\\Algorithme_De_Newton.jl:62",
      " [8] top-level scope at In[4]:6",
      " [9] include_string(::Function, ::Module, ::String, ::String) at .\\loading.jl:1091"
     ]
    }
   ],
   "source": [
    "# Test de l'Algorithme_De_Newton sur f2\n",
    "xmin,f_min,flag,nb_iters = Algorithme_De_Newton(f2,grad_f2,hess_f2,x021,options)\n",
    "my_afficher_resultats(\"Newton\",\"f2\",x021,xmin,f_min,flag,sol_exacte2,nb_iters)\n",
    "xmin,f_min,flag,nb_iters = Algorithme_De_Newton(f2,grad_f2,hess_f2,x022,options)\n",
    "my_afficher_resultats(\"Newton\",\"f2\",x022,xmin,f_min,flag,sol_exacte2,nb_iters)\n",
    "xmin,f_min,flag,nb_iters = Algorithme_De_Newton(f2,grad_f2,hess_f2,x023,options)\n",
    "my_afficher_resultats(\"Newton\",\"f2\",x023,xmin,f_min,flag,sol_exacte2,nb_iters)"
   ]
  },
  {
   "cell_type": "markdown",
   "metadata": {},
   "source": [
    "## Interprétation \n",
    "\n",
    "Justifier\n",
    "\n",
    "1. les résultats obtenus pour l'exemple $f_0$ ci-dessus;\n",
    "\n",
    "2. que l’algorithme implémenté converge en une itération pour $f_{1}$;\n",
    "\n",
    "3. que l’algorithme puisse ne pas converger pour $f_{2}$ avec certains points initiaux."
   ]
  },
  {
   "cell_type": "markdown",
   "metadata": {},
   "source": [
    "## Réponses :\n",
    "##### Pour $f_0$\n",
    "* lorsqu'on applique l'algorithme de newton à partir de solution exacte on a pas besoin d'enter dans la boucle de l'algorithme donc c'est trivial que nb_iters = 0\n",
    "\n",
    "* lorsqu'on applique l'algorithme de newton à partir d'un point près de la solution exacte ($- \\frac{\\pi}{2} + \\frac{1}{2} $) on arrive à la solution apres 3 itérations avec un flag = 2 c-a-d on a une stagnation du f, car $x_0$ est près de la solution exacte\n",
    "\n",
    "* lorsqu'on applique l'algorithme de newton à partir d'un point critique ($\\frac{\\pi}{2}$) mais qui maximise f on a pas besoin d'enter dans la boucle de l'algorithme car $x_0$ minimise $grad_{x}f$.\n",
    "\n",
    "##### Pour $f_1$\n",
    "* On remarque que l'algorithme de newton trouve la solution en une seule itération car $f_1$ est une fonction quadratique donc\n",
    "elle est égale a son développement de Taylor à l'ordre 2 alors on trouve la solution éxacte du système linéaire.\n",
    "\n",
    "##### Pour $f_2$\n",
    "* l'algorithme de newton ne converge pas en partant de $x_{023} = [0, \\frac{1}{200} + \\frac{1}{10^{12}}]$ en effet on a une **SingularException** car une approximation d'une fonction  par son développement de Taylor à l'ordre 2 reste une approximation locale est peut etre globalement éloigné de la fonction et dans le cas de $f_2$ ou on démarre d'un point singulier de l'approximation ."
   ]
  },
  {
   "cell_type": "markdown",
   "metadata": {},
   "source": [
    "# Régions de confiance avec pas de cauchy \n",
    "\n",
    "## Implémentation \n",
    "\n",
    "1. Coder l'algorithme du pas de Cauchy d’un sous-problème de\n",
    "régions de confiance (fichier `Pas_De_Cauchy.jl`). Tester sur les quadratiques proposées en Annexe B.\n",
    "\n",
    "2. Coder l'algorithme de régions de confiance (fichier `Regions_De_Confiance.jl`). Tester sur les problèmes de l’Annexe A."
   ]
  },
  {
   "cell_type": "code",
   "execution_count": 5,
   "metadata": {},
   "outputs": [
    {
     "name": "stdout",
     "output_type": "stream",
     "text": [
      "-------------------------------------------------------------------------\n",
      "\u001b[34m\u001b[1mPour g =[0, 0] et H = [7 0; 0 2] On a \u001b[22m\u001b[39m\n",
      "\u001b[34m\u001b[1m s : [0.0, 0.0], e : 0\u001b[22m\u001b[39m\n"
     ]
    }
   ],
   "source": [
    "# Tests sur Pas_De_Cauchy.jl\n",
    "include(\"Pas_De_Cauchy.jl\")\n",
    "\n",
    "function aff_res_pas_cauchy(s, e, g, H)\n",
    "\tprintln(\"-------------------------------------------------------------------------\")\n",
    "\tprintstyled(\"Pour g =\", g, \" et H = \", H, \" On a \\n s : \",s, \", e : \",e,\"\\n\",bold=true,color=:blue)\n",
    "end\n",
    "# Test du Pas_De_Cauchy sur g1\n",
    "delta1 = 1\n",
    "s1, e1 = Pas_De_Cauchy(g1, H1, delta1)\n",
    "aff_res_pas_cauchy(s1, e1, g1, H1)"
   ]
  },
  {
   "cell_type": "code",
   "execution_count": 6,
   "metadata": {},
   "outputs": [
    {
     "name": "stdout",
     "output_type": "stream",
     "text": [
      "-------------------------------------------------------------------------\n",
      "\u001b[34m\u001b[1mPour g =[6, 2] et H = [7 0; 0 2] On a \u001b[22m\u001b[39m\n",
      "\u001b[34m\u001b[1m s : [-0.9230769230769234, -0.30769230769230776], e : 1\u001b[22m\u001b[39m\n"
     ]
    }
   ],
   "source": [
    "# Test du Pas_De_Cauchy sur g2\n",
    "delta2 = 1\n",
    "s2, e2 = Pas_De_Cauchy(g2, H2, delta2)\n",
    "aff_res_pas_cauchy(s2, e2, g2, H2)"
   ]
  },
  {
   "cell_type": "code",
   "execution_count": 8,
   "metadata": {},
   "outputs": [
    {
     "name": "stdout",
     "output_type": "stream",
     "text": [
      "-------------------------------------------------------------------------\n",
      "\u001b[34m\u001b[1mPour g =[-2, 1] et H = [-2 0; 0 10] On a \u001b[22m\u001b[39m\n",
      "\u001b[34m\u001b[1m s : [0.8944271909999159, -0.4472135954999579], e : -1\u001b[22m\u001b[39m\n"
     ]
    }
   ],
   "source": [
    "# Test du Pas_De_Cauchy sur g3\n",
    "delta3 = 1\n",
    "s3, e3 = Pas_De_Cauchy(g3, H3, delta3)\n",
    "aff_res_pas_cauchy(s3, e3, g3, H3)"
   ]
  },
  {
   "cell_type": "code",
   "execution_count": 9,
   "metadata": {},
   "outputs": [
    {
     "name": "stdout",
     "output_type": "stream",
     "text": [
      "-------------------------------------------------------------------------\n",
      "\u001b[34m\u001b[1mRésultats de : Regions_De_Confiance appliqué à f1 au point initial [1, 0, 0]:\u001b[22m\u001b[39m\n",
      "  * xsol = [1.0000000036183265, 1.000000000485728, 0.9999999973531289]\n",
      "  * f(xsol) = 2.387311650033611e-17\n",
      "  * nb_iters = 55\n",
      "  * flag = 0\n",
      "  * sol_exacte : [1, 1, 1]\n",
      "-------------------------------------------------------------------------\n",
      "\u001b[34m\u001b[1mRésultats de : Regions_De_Confiance appliqué à f1 au point initial [10.0, 3.0, -2.2]:\u001b[22m\u001b[39m\n",
      "  * xsol = [1.0000000032919558, 1.0000000002281944, 0.9999999971644331]\n",
      "  * f(xsol) = 1.971057642935899e-17\n",
      "  * nb_iters = 52\n",
      "  * flag = 0\n",
      "  * sol_exacte : [1, 1, 1]\n"
     ]
    }
   ],
   "source": [
    "# Tests sur Regions_De_Confiance.jl (cauchy)\n",
    "include(\"Regions_De_Confiance.jl\")\n",
    "\n",
    "# Test du Regions_De_Confiance sur f1 (cauchy)\n",
    "xmin,f_min,flag,nb_iters = Regions_De_Confiance(\"cauchy\",f1,grad_f1,hess_f1,x011,options)\n",
    "my_afficher_resultats(\"Regions_De_Confiance\",\"f1\",x011,xmin,f_min,flag,sol_exacte1,nb_iters)\n",
    "xmin,f_min,flag,nb_iters = Regions_De_Confiance(\"cauchy\",f1,grad_f1,hess_f1,x012,options)\n",
    "my_afficher_resultats(\"Regions_De_Confiance\",\"f1\",x012,xmin,f_min,flag,sol_exacte1,nb_iters)"
   ]
  },
  {
   "cell_type": "code",
   "execution_count": 10,
   "metadata": {},
   "outputs": [
    {
     "name": "stdout",
     "output_type": "stream",
     "text": [
      "-------------------------------------------------------------------------\n",
      "\u001b[34m\u001b[1mRésultats de : Regions_De_Confiance appliqué à f2 au point initial [-1.2, 1.0]:\u001b[22m\u001b[39m\n",
      "  * xsol = [0.9999999863065123, 0.9999999725584799]\n",
      "  * f(xsol) = 1.878091196378168e-16\n",
      "  * nb_iters = 254\n",
      "  * flag = 0\n",
      "  * sol_exacte : [1, 1]\n",
      "-------------------------------------------------------------------------\n",
      "\u001b[34m\u001b[1mRésultats de : Regions_De_Confiance appliqué à f2 au point initial [10, 0]:\u001b[22m\u001b[39m\n",
      "  * xsol = [0.999999983961497, 0.9999999678600642]\n",
      "  * f(xsol) = 2.576295973425977e-16\n",
      "  * nb_iters = 128\n",
      "  * flag = 0\n",
      "  * sol_exacte : [1, 1]\n",
      "-------------------------------------------------------------------------\n",
      "\u001b[34m\u001b[1mRésultats de : Regions_De_Confiance appliqué à f2 au point initial [0.0, 0.0050000000010000005]:\u001b[22m\u001b[39m\n",
      "  * xsol = [0.9999999920120766, 0.9999999839923176]\n",
      "  * f(xsol) = 6.390827161524285e-17\n",
      "  * nb_iters = 168\n",
      "  * flag = 0\n",
      "  * sol_exacte : [1, 1]\n"
     ]
    }
   ],
   "source": [
    "# Test du Regions_De_Confiance sur f2 (cauchy)\n",
    "xmin,f_min,flag,nb_iters = Regions_De_Confiance(\"cauchy\",f2,grad_f2,hess_f2,x021,options)\n",
    "my_afficher_resultats(\"Regions_De_Confiance\",\"f2\",x021,xmin,f_min,flag,sol_exacte2,nb_iters)\n",
    "xmin,f_min,flag,nb_iters = Regions_De_Confiance(\"cauchy\",f2,grad_f2,hess_f2,x022,options)\n",
    "my_afficher_resultats(\"Regions_De_Confiance\",\"f2\",x022,xmin,f_min,flag,sol_exacte2,nb_iters)\n",
    "xmin,f_min,flag,nb_iters = Regions_De_Confiance(\"cauchy\",f2,grad_f2,hess_f2,x023,options)\n",
    "my_afficher_resultats(\"Regions_De_Confiance\",\"f2\",x023,xmin,f_min,flag,sol_exacte2,nb_iters)"
   ]
  },
  {
   "cell_type": "markdown",
   "metadata": {},
   "source": [
    "## Interprétation \n",
    "\n",
    "1. Quelle relation lie la fonction test $f_1$ et son modèle de Taylor à l’ordre 2 ? Comparer alors les performances de Newton et RC-Pas de Cauchy sur cette fonction.\n",
    "\n",
    "2. Le rayon initial de la région de confiance est un paramètre important dans l’analyse\n",
    "de la performance de l’algorithme. Sur quel(s) autre(s) paramètre(s) peut-on jouer\n",
    "pour essayer d’améliorer cette performance ? Étudier l’influence d’au moins deux de\n",
    "ces paramètres."
   ]
  },
  {
   "cell_type": "markdown",
   "metadata": {},
   "source": [
    "## Réponses :\n",
    "#### Pour $f_1$ :\n",
    "* $f_1$ est une fonction quadratique donc elle est égale a son développement de Taylor à l'ordre 2 donc la méthode de newton converge en une itération. par contre la méthode Regions De Confiance converge en 55 itérations en un résultat moins précis ($e^{-32}$ contre $e^{-17}$) en effet l'algorithme de newton converge en une iteration car il cherche a  minimiser $f_1$ directement contre l'algorithme region de confiance qui minimise $f_1$ selon la direction du grandient du point courant.\n",
    "\n",
    "#### Les paramètre(s) qui influence la performance :\n",
    "* $\\gamma_1$ et $\\gamma_2$ : les facteurs d'agrandissement et de réduction de la région de confiance\n",
    "* $\\Delta_{max}$ : rayon de confiance maximal\n",
    "* $\\eta_1$ et $\\eta_2$ : les critères d'agrandissement et de réduction de la région de confiance.\n",
    "\n",
    "#### Influence de $\\gamma_1$ :\n",
    "* On remarque que lorsqu'on diminue $\\gamma_1$ le nombre d'iterations augmente.\n",
    "\n",
    "#### Influence de $\\eta_{1}$ :\n",
    "* On remarque que lorsqu'on aygmente $\\eta_1$ le nombre d'iterations augmente."
   ]
  },
  {
   "cell_type": "code",
   "execution_count": 23,
   "metadata": {},
   "outputs": [
    {
     "name": "stdout",
     "output_type": "stream",
     "text": [
      "-------------------------------------------------------------------------\n",
      "\u001b[34m\u001b[1mRésultats de : Regions_De_Confiance appliqué à f2 au point initial [-1.2, 1.0]:\u001b[22m\u001b[39m\n",
      "  * xsol = [0.9248641794814128, 0.8547591471579412]\n",
      "  * f(xsol) = 0.005683165250312004\n",
      "  * nb_iters = 1001\n",
      "  * flag = 3\n",
      "  * sol_exacte : [1, 1]\n",
      "-------------------------------------------------------------------------\n",
      "\u001b[34m\u001b[1mRésultats de : Regions_De_Confiance appliqué à f2 au point initial [10, 0]:\u001b[22m\u001b[39m\n",
      "  * xsol = [0.999999983961497, 0.9999999678600642]\n",
      "  * f(xsol) = 2.576295973425977e-16\n",
      "  * nb_iters = 128\n",
      "  * flag = 0\n",
      "  * sol_exacte : [1, 1]\n",
      "-------------------------------------------------------------------------\n",
      "\u001b[34m\u001b[1mRésultats de : Regions_De_Confiance appliqué à f2 au point initial [0.0, 0.0050000000010000005]:\u001b[22m\u001b[39m\n",
      "  * xsol = [0.9999999867350964, 0.9999999734181038]\n",
      "  * f(xsol) = 1.7622899675010975e-16\n",
      "  * nb_iters = 252\n",
      "  * flag = 0\n",
      "  * sol_exacte : [1, 1]\n"
     ]
    }
   ],
   "source": [
    "# Test de l'influence de gamma1 sur f2 (cauchy)\n",
    "options1 = [10 0.1 2 0.25 0.75 2 1000 sqrt(eps()) 1e-15]\n",
    "xmin,f_min,flag,nb_iters = Regions_De_Confiance(\"cauchy\",f2,grad_f2,hess_f2,x021,options1)\n",
    "my_afficher_resultats(\"Regions_De_Confiance\",\"f2\",x021,xmin,f_min,flag,sol_exacte2,nb_iters)\n",
    "xmin,f_min,flag,nb_iters = Regions_De_Confiance(\"cauchy\",f2,grad_f2,hess_f2,x022,options1)\n",
    "my_afficher_resultats(\"Regions_De_Confiance\",\"f2\",x022,xmin,f_min,flag,sol_exacte2,nb_iters)\n",
    "xmin,f_min,flag,nb_iters = Regions_De_Confiance(\"cauchy\",f2,grad_f2,hess_f2,x023,options1)\n",
    "my_afficher_resultats(\"Regions_De_Confiance\",\"f2\",x023,xmin,f_min,flag,sol_exacte2,nb_iters)"
   ]
  },
  {
   "cell_type": "code",
   "execution_count": 24,
   "metadata": {},
   "outputs": [
    {
     "name": "stdout",
     "output_type": "stream",
     "text": [
      "-------------------------------------------------------------------------\n",
      "\u001b[34m\u001b[1mRésultats de : Regions_De_Confiance appliqué à f1 au point initial [1, 0, 0]:\u001b[22m\u001b[39m\n",
      "  * xsol = [1.000000005157124, 0.9999999999999999, 0.9999999948428756]\n",
      "  * f(xsol) = 5.3191860599068274e-17\n",
      "  * nb_iters = 207\n",
      "  * flag = 0\n",
      "  * sol_exacte : [1, 1, 1]\n",
      "-------------------------------------------------------------------------\n",
      "\u001b[34m\u001b[1mRésultats de : Regions_De_Confiance appliqué à f1 au point initial [10.0, 3.0, -2.2]:\u001b[22m\u001b[39m\n",
      "  * xsol = [1.000000005252118, 1.0, 0.9999999947478817]\n",
      "  * f(xsol) = 5.516949085434899e-17\n",
      "  * nb_iters = 223\n",
      "  * flag = 0\n",
      "  * sol_exacte : [1, 1, 1]\n"
     ]
    }
   ],
   "source": [
    "# Test de l'influence de etat1 sur f1 (cauchy)\n",
    "options2 = [10 0.5 2 0.75 0.75 2 1000 sqrt(eps()) 1e-15]\n",
    "xmin,f_min,flag,nb_iters = Regions_De_Confiance(\"cauchy\",f1,grad_f1,hess_f1,x011,options2)\n",
    "my_afficher_resultats(\"Regions_De_Confiance\",\"f1\",x011,xmin,f_min,flag,sol_exacte1,nb_iters)\n",
    "xmin,f_min,flag,nb_iters = Regions_De_Confiance(\"cauchy\",f1,grad_f1,hess_f1,x012,options2)\n",
    "my_afficher_resultats(\"Regions_De_Confiance\",\"f1\",x012,xmin,f_min,flag,sol_exacte1,nb_iters)"
   ]
  },
  {
   "cell_type": "markdown",
   "metadata": {},
   "source": [
    "# Régions de confiance avec gradient conjugué tronqué\n",
    "\n",
    "## Implémentation \n",
    "\n",
    "1. Implémenter l’algorithme du Gradient Conjugué Tronqué, en se basant sur le cours (fichier `Gradient_Conjugue_Tronque.jl`).\n",
    "On validera les résultats sur les fonctions de l’Annexe C.\n",
    "\n",
    "2. Intégrer finalement l’algorithme du Gradient Conjugué Tronqué dans le code de\n",
    "régions de confiance, et appliquer ce code pour résoudre les exemples proposés en\n",
    "Annexe A."
   ]
  },
  {
   "cell_type": "code",
   "execution_count": 25,
   "metadata": {},
   "outputs": [
    {
     "data": {
      "text/plain": [
       "afficher_resultat_grad_conj (generic function with 1 method)"
      ]
     },
     "execution_count": 25,
     "metadata": {},
     "output_type": "execute_result"
    }
   ],
   "source": [
    "# Tests sur Gradient_Conjugue_Tronque\n",
    "\n",
    "include(\"Gradient_Conjugue_Tronque.jl\")\n",
    "\n",
    "function afficher_resultat_grad_conj(s, g, H)\n",
    "\tprintln(\"-------------------------------------------------------------------------\")\n",
    "\tprintstyled(\"Pour g =\", g, \" et H = \", H, \" On a \\n s : \",s ,\"\\n\",bold=true,color=:blue)\n",
    "end\n"
   ]
  },
  {
   "cell_type": "code",
   "execution_count": 26,
   "metadata": {},
   "outputs": [
    {
     "name": "stdout",
     "output_type": "stream",
     "text": [
      "-------------------------------------------------------------------------\n",
      "\u001b[34m\u001b[1mPour g =[0, 0] et H = [-2 0; 0 10] On a \u001b[22m\u001b[39m\n",
      "\u001b[34m\u001b[1m s : [NaN, NaN]\u001b[22m\u001b[39m\n"
     ]
    }
   ],
   "source": [
    "s4 = Gradient_Conjugue_Tronque(g4, H4, options)\n",
    "afficher_resultat_grad_conj(s4, g4, H4)"
   ]
  },
  {
   "cell_type": "code",
   "execution_count": 27,
   "metadata": {},
   "outputs": [
    {
     "name": "stdout",
     "output_type": "stream",
     "text": [
      "-------------------------------------------------------------------------\n",
      "\u001b[34m\u001b[1mPour g =[2, 3] et H = [4 6; 6 5] On a \u001b[22m\u001b[39m\n",
      "\u001b[34m\u001b[1m s : [1.1782448197996298, -1.6160876042514951]\u001b[22m\u001b[39m\n"
     ]
    }
   ],
   "source": [
    "s5 = Gradient_Conjugue_Tronque(g5, H5, options)\n",
    "afficher_resultat_grad_conj(s5, g5, H5)"
   ]
  },
  {
   "cell_type": "code",
   "execution_count": 28,
   "metadata": {},
   "outputs": [
    {
     "name": "stdout",
     "output_type": "stream",
     "text": [
      "-------------------------------------------------------------------------\n",
      "\u001b[34m\u001b[1mPour g =[2, 0] et H = [4 0; 0 -15] On a \u001b[22m\u001b[39m\n",
      "\u001b[34m\u001b[1m s : [-0.5, 0.0]\u001b[22m\u001b[39m\n"
     ]
    }
   ],
   "source": [
    "s6 = Gradient_Conjugue_Tronque(g6, H6, options)\n",
    "afficher_resultat_grad_conj(s6, g6, H6)"
   ]
  },
  {
   "cell_type": "code",
   "execution_count": 29,
   "metadata": {},
   "outputs": [
    {
     "name": "stdout",
     "output_type": "stream",
     "text": [
      "-------------------------------------------------------------------------\n",
      "\u001b[34m\u001b[1mRésultats de : Regions_De_Confiance appliqué à f1 au point initial [1, 0, 0]:\u001b[22m\u001b[39m\n",
      "  * xsol = [1.0, 1.0, 1.0]\n",
      "  * f(xsol) = 0.0\n",
      "  * nb_iters = 2\n",
      "  * flag = 0\n",
      "  * sol_exacte : [1, 1, 1]\n",
      "-------------------------------------------------------------------------\n",
      "\u001b[34m\u001b[1mRésultats de : Regions_De_Confiance appliqué à f1 au point initial [10.0, 3.0, -2.2]:\u001b[22m\u001b[39m\n",
      "  * xsol = [1.0, 1.0, 1.0]\n",
      "  * f(xsol) = 0.0\n",
      "  * nb_iters = 7\n",
      "  * flag = 0\n",
      "  * sol_exacte : [1, 1, 1]\n"
     ]
    }
   ],
   "source": [
    "# Tests sur Regions_De_Confiance.jl (gct)\n",
    "include(\"Regions_De_Confiance.jl\")\n",
    "\n",
    "# Test du Regions_De_Confiance sur f1 (gct)\n",
    "xmin,f_min,flag,nb_iters = Regions_De_Confiance(\"gct\",f1,grad_f1,hess_f1,x011,options)\n",
    "my_afficher_resultats(\"Regions_De_Confiance\",\"f1\",x011,xmin,f_min,flag,sol_exacte1,nb_iters)\n",
    "xmin,f_min,flag,nb_iters = Regions_De_Confiance(\"gct\",f1,grad_f1,hess_f1,x012,options)\n",
    "my_afficher_resultats(\"Regions_De_Confiance\",\"f1\",x012,xmin,f_min,flag,sol_exacte1,nb_iters)"
   ]
  },
  {
   "cell_type": "code",
   "execution_count": 30,
   "metadata": {},
   "outputs": [
    {
     "name": "stdout",
     "output_type": "stream",
     "text": [
      "-------------------------------------------------------------------------\n",
      "\u001b[34m\u001b[1mRésultats de : Regions_De_Confiance appliqué à f2 au point initial [-1.2, 1.0]:\u001b[22m\u001b[39m\n",
      "  * xsol = [1.0, 1.0]\n",
      "  * f(xsol) = 0.0\n",
      "  * nb_iters = 29\n",
      "  * flag = 0\n",
      "  * sol_exacte : [1, 1]\n",
      "-------------------------------------------------------------------------\n",
      "\u001b[34m\u001b[1mRésultats de : Regions_De_Confiance appliqué à f2 au point initial [10, 0]:\u001b[22m\u001b[39m\n",
      "  * xsol = [1.0, 1.0]\n",
      "  * f(xsol) = 0.0\n",
      "  * nb_iters = 27\n",
      "  * flag = 0\n",
      "  * sol_exacte : [1, 1]\n",
      "-------------------------------------------------------------------------\n",
      "\u001b[34m\u001b[1mRésultats de : Regions_De_Confiance appliqué à f2 au point initial [0.0, 0.0050000000010000005]:\u001b[22m\u001b[39m\n",
      "  * xsol = [1.0, 1.0]\n",
      "  * f(xsol) = 0.0\n",
      "  * nb_iters = 21\n",
      "  * flag = 0\n",
      "  * sol_exacte : [1, 1]\n"
     ]
    }
   ],
   "source": [
    "# Test du Regions_De_Confiance sur f2 (gct)\n",
    "xmin,f_min,flag,nb_iters = Regions_De_Confiance(\"gct\",f2,grad_f2,hess_f2,x021,options)\n",
    "my_afficher_resultats(\"Regions_De_Confiance\",\"f2\",x021,xmin,f_min,flag,sol_exacte2,nb_iters)\n",
    "xmin,f_min,flag,nb_iters = Regions_De_Confiance(\"gct\",f2,grad_f2,hess_f2,x022,options)\n",
    "my_afficher_resultats(\"Regions_De_Confiance\",\"f2\",x022,xmin,f_min,flag,sol_exacte2,nb_iters)\n",
    "xmin,f_min,flag,nb_iters = Regions_De_Confiance(\"gct\",f2,grad_f2,hess_f2,x023,options)\n",
    "my_afficher_resultats(\"Regions_De_Confiance\",\"f2\",x023,xmin,f_min,flag,sol_exacte2,nb_iters)"
   ]
  },
  {
   "cell_type": "markdown",
   "metadata": {},
   "source": [
    "## Interprétation  \n",
    "\n",
    "1. Comparer la décroissance obtenue avec celle du pas de Cauchy, en retournant, dans\n",
    "un premier temps le dernier itéré admissible à courbure positive (c’est à dire, que si\n",
    "l’une ou l’autre des deux conditions (b) ou (d) sont rencontrées dans l’algorithme 3,\n",
    "alors on ne calcule pas ``σ_{j}`` et on retourne le dernier itéré ``s_{j}`` directement).\n",
    "\n",
    "2. Comparer la décroissance obtenue avec celle du pas de Cauchy, en imposant la sortie\n",
    "dans l’algorithme 3 au bout d’une itération seulement. Que remarquez vous ?\n",
    "\n",
    "3. Comparer la décroissance obtenue avec celle du pas de Cauchy dans le cas général.\n",
    "\n",
    "4. Quels sont les avantages et inconvénients des deux approches ?"
   ]
  },
  {
   "cell_type": "markdown",
   "metadata": {},
   "source": [
    "## Réponses?\n",
    "#### 1 :\n",
    "#### 2 :\n",
    "#### 3 :\n",
    "#### 4 :"
   ]
  },
  {
   "cell_type": "markdown",
   "metadata": {},
   "source": [
    "# Lagrangien augmenté\n",
    "\n",
    "## Implémentation\n",
    "1.Choisir des critères d’arrêt pour la convergence de l'algorithme.\n",
    "\n",
    "2.Implémenter l'algorithme du lagrangien augmenté, en utilisant les différentes méthodes\n",
    "qui ont été vues en première partie pour la résolution de la suite de problémes sans\n",
    "contraintes (fichier `Lagrangien_Augmente.jl`)\n",
    " \n",
    "3.Tester les différentes variantes sur les problèmes en Annexe D.\n",
    " "
   ]
  },
  {
   "cell_type": "code",
   "execution_count": 55,
   "metadata": {},
   "outputs": [
    {
     "ename": "LoadError",
     "evalue": "DimensionMismatch(\"dimensions must match: a has dims (Base.OneTo(1), Base.OneTo(3)), b has dims (Base.OneTo(3),), mismatch at 1\")",
     "output_type": "error",
     "traceback": [
      "DimensionMismatch(\"dimensions must match: a has dims (Base.OneTo(1), Base.OneTo(3)), b has dims (Base.OneTo(3),), mismatch at 1\")",
      "",
      "Stacktrace:",
      " [1] promote_shape at .\\indices.jl:178 [inlined]",
      " [2] promote_shape at .\\indices.jl:174 [inlined]",
      " [3] promote_shape at .\\indices.jl:169 [inlined]",
      " [4] +(::Array{Int64,1}, ::Transpose{Int64,Array{Int64,1}}) at .\\arraymath.jl:38",
      " [5] +(::Array{Int64,1}, ::Array{Int64,1}, ::Transpose{Int64,Array{Int64,1}}) at .\\operators.jl:538",
      " [6] (::var\"#grad_LA#101\"{typeof(c1),typeof(grad_f1),typeof(grad_c1)})(::Array{Int64,1}) at C:\\Users\\MDAA\\Documents\\Optium-BE\\src\\Lagrangien_Augmente.jl:96",
      " [7] Algorithme_De_Newton(::var\"#LA#100\"{typeof(f1),typeof(c1)}, ::var\"#grad_LA#101\"{typeof(c1),typeof(grad_f1),typeof(grad_c1)}, ::var\"#hess_LA#102\"{typeof(hess_f1),typeof(grad_c1),typeof(hess_c1)}, ::Array{Int64,1}, ::Array{Any,1}) at C:\\Users\\MDAA\\Documents\\Optium-BE\\src\\Algorithme_De_Newton.jl:61",
      " [8] Lagrangien_Augmente(::String, ::typeof(f1), ::typeof(c1), ::typeof(grad_f1), ::typeof(hess_f1), ::typeof(grad_c1), ::typeof(hess_c1), ::Array{Int64,1}, ::Array{Any,1}) at C:\\Users\\MDAA\\Documents\\Optium-BE\\src\\Lagrangien_Augmente.jl:100",
      " [9] top-level scope at In[55]:3",
      " [10] include_string(::Function, ::Module, ::String, ::String) at .\\loading.jl:1091",
      " [11] execute_code(::String, ::String) at C:\\Users\\MDAA\\.julia\\packages\\IJulia\\a1SNk\\src\\execute_request.jl:27",
      " [12] execute_request(::ZMQ.Socket, ::IJulia.Msg) at C:\\Users\\MDAA\\.julia\\packages\\IJulia\\a1SNk\\src\\execute_request.jl:86",
      " [13] #invokelatest#1 at .\\essentials.jl:710 [inlined]",
      " [14] invokelatest at .\\essentials.jl:709 [inlined]",
      " [15] eventloop(::ZMQ.Socket) at C:\\Users\\MDAA\\.julia\\packages\\IJulia\\a1SNk\\src\\eventloop.jl:8",
      " [16] (::IJulia.var\"#15#18\")() at .\\task.jl:356"
     ]
    }
   ],
   "source": [
    "# Tests du Lagrangien_Augmente.jl sur f1\n",
    "include(\"Lagrangien_Augmente.jl\")\n",
    "xmin, fxmin, flag, iter = Lagrangien_Augmente(\"newton\", f1, c1, grad_f1, hess_f1, grad_c1, hess_c1, xc11, [])\n",
    "my_afficher_resultats(\"Lagrangien_Augmente (newton)\",\"f1\",xc11,xmin,f_min,flag,sol_exacte1,iter)\n",
    "xmin, fxmin, flag, iter = Lagrangien_Augmente(\"cauchy\", f1, c1, grad_f1, hess_f1, grad_c1, hess_c1, xc11, [])\n",
    "my_afficher_resultats(\"Lagrangien_Augmente (cauchy)\",\"f1\",xc11,xmin,f_min,flag,sol_exacte1,iter)\n",
    "xmin, fxmin, flag, iter = Lagrangien_Augmente(\"gct\", f1, c1, grad_f1, hess_f1, grad_c1, hess_c1, xc11, [])\n",
    "my_afficher_resultats(\"Lagrangien_Augmente (gct)\",\"f1\",xc11,xmin,f_min,flag,sol_exacte1,iter)"
   ]
  },
  {
   "cell_type": "markdown",
   "metadata": {},
   "source": [
    "## Interprétation\n",
    " 1.Commenter les résultats obtenus, en étudiant notamment les valeurs de $\\lambda_k$ et $\\mu_k$.\n",
    " \n",
    " 2.Étudier l'influence du paramètre $\\tau$ dans la performance de l'algorithme.\n",
    " \n",
    " 3.**Supplémentaire** : \n",
    "      Que proposez-vous comme méthode pour la résolution des problèmes avec\n",
    "      des contraintes à la fois d'égalité et d'inégalité ? Implémenter (si le temps le permet)\n",
    "      ce nouvel algorithme\n"
   ]
  },
  {
   "cell_type": "markdown",
   "metadata": {},
   "source": [
    "## Vos réponses?\n"
   ]
  }
 ],
 "metadata": {
  "kernelspec": {
   "display_name": "Julia 1.5.2",
   "language": "julia",
   "name": "julia-1.5"
  },
  "language_info": {
   "file_extension": ".jl",
   "mimetype": "application/julia",
   "name": "julia",
   "version": "1.5.2"
  }
 },
 "nbformat": 4,
 "nbformat_minor": 4
}
